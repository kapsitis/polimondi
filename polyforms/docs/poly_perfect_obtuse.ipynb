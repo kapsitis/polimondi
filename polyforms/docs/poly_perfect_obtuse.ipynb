{
 "cells": [
  {
   "cell_type": "code",
   "execution_count": 2,
   "id": "366353eb",
   "metadata": {},
   "outputs": [
    {
     "name": "stdout",
     "output_type": "stream",
     "text": [
      "0: 820, 1: 2997, 2: 4910, 3: 10010, 4: 6000, 5: 8520, 6: 8416, 7: 7956, 8: 6688, 9: 6938, 10: 5572, 11: 7116, 12: 7338, 13: 7978, 14: 7114, 15: 8704, 16: 8920, 17: 10178, 18: 7272, 19: 6168, 20: 9920, 21: 5354, 22: 5362, "
     ]
    }
   ],
   "source": [
    "from polyforms.polyiamond import Polyiamond\n",
    "from polyforms.draw_scene import *\n",
    "\n",
    "\n",
    "poly24 = ['ABCDEDEFAFAB',\n",
    "          'ABAFEDEDEDCBCBCBAB',\n",
    "          'ABABAFEDEDCDEFEDCBCDCDCB',\n",
    "          'ABABCDCDEDEFEDEFAFAFABAB',\n",
    "          'ABABCDCDEFAFEDCDEFEFEFEF',\n",
    "          'ABABCDCDEFEDEDEFAFAFABCB',\n",
    "          'ABABCDEDCDEDEFAFEFAFABAB',\n",
    "          'ABABCDEDCDEFEDEFAFABAFAB',\n",
    "          'ABABCDEDEDCDEFAFAFEFABCB',\n",
    "          'ABABCDEDEDCDEFAFEFABAFAB',\n",
    "          'ABAFAFEDCDCDEDEDCBABCDCB',\n",
    "          'ABAFAFEDEDCBCDEDCDCDCBAB',\n",
    "          'ABAFEDEDEDCBCDCBAFABAFAF',\n",
    "          'ABAFEDEDEDCDCBABCBAFAFAF',\n",
    "          'ABAFEDEDEDCDCBAFABCBABCB',\n",
    "          'ABAFEFEDCDEDCDCBABABCBCB',\n",
    "          'ABAFEFEDCDEDCDCBABCBABAB',\n",
    "          'ABAFEFEDEDCDCBCDCBABABAB',\n",
    "          'ABCBAFAFEDEDEDEDCDCDCBAB',\n",
    "          'ABCBCDCDEFAFEFAFEFEDEDEF',\n",
    "          'ABCBCDCDEFEFEFEFABAFEFAB',\n",
    "          'ABCBCDEDEFABAFEFEDEDEFAB',\n",
    "          'ABCDEDEDEFABABCBAFAFEDEF']\n",
    "\n",
    "polygons = [Polyiamond(s) for s in poly24]\n",
    "for idx,pp in enumerate(polygons): \n",
    "    print('{}: {}'.format(idx, pp.get_area()), end=\", \")\n"
   ]
  },
  {
   "cell_type": "code",
   "execution_count": 10,
   "id": "0b291294",
   "metadata": {},
   "outputs": [
    {
     "name": "stdout",
     "output_type": "stream",
     "text": [
      "(ACEEAA,(4,4,-8)), (BDDFFB,(-4,-4,8)), (['B', 'A', 'F', 'A', 'F', 'E'],(1,13,-14))\n",
      "(AAEEECCCA,(0,18,-18)), (BFDDDBBBB,(0,-18,18)), (['B', 'A', 'B', 'C', 'B', 'C'],(11,-19,8))\n",
      "(AAAEECEECCCC,(10,22,-32)), (BBFDDDFDBDDB,(-10,-22,32)), (['B', 'C', 'D', 'C', 'D', 'C'],(-7,-13,20))\n",
      "(AACCEEEEAAAA,(14,14,-28)), (BBDDDFDFFFBB,(-14,-14,28)), (['B', 'A', 'B', 'A', 'F', 'A'],(16,1,-17))\n",
      "(AACCEAECEEEE,(12,0,-12)), (BBDDFFDDFFFF,(-12,0,12)), (['F', 'E', 'F', 'E', 'F', 'E'],(-12,21,-9))\n",
      "(AACCEEEEAAAC,(12,12,-24)), (BBDDFDDFFFBB,(-12,-12,24)), (['B', 'C', 'B', 'A', 'F', 'A'],(14,-1,-13))\n",
      "(AACECEEAEAAA,(16,16,-32)), (BBDDDDFFFFBB,(-16,-16,32)), (['B', 'A', 'B', 'A', 'F', 'A'],(16,1,-17))\n",
      "(AACECEEEAAAA,(12,18,-30)), (BBDDDFDFFBFB,(-12,-18,30)), (['B', 'A', 'F', 'A', 'B', 'A'],(18,-3,-15))\n",
      "(AACEECEAAEAC,(16,16,-32)), (BBDDDDFFFFBB,(-16,-16,32)), (['B', 'C', 'B', 'A', 'F', 'E'],(2,5,-7))\n",
      "(AACEECEAEAAA,(14,20,-34)), (BBDDDDFFFBFB,(-14,-20,34)), (['B', 'A', 'F', 'A', 'B', 'A'],(18,-3,-15))\n",
      "(AAAECCEECACC,(32,-4,-28)), (BFFDDDDDBBDB,(-32,4,28)), (['B', 'C', 'D', 'C', 'B', 'A'],(9,-12,3))\n",
      "(AAAEECCECCCA,(24,0,-24)), (BFFDDBDDDDBB,(-24,0,24)), (['B', 'A', 'B', 'C', 'D', 'C'],(1,-14,13))\n",
      "(AAEEECCCAAAA,(12,18,-30)), (BFDDDBDBFBFF,(-12,-18,30)), (['F', 'A', 'F', 'A', 'B', 'A'],(17,-1,-16))\n",
      "(AAEEECCACAAA,(14,20,-34)), (BFDDDDBBBFFF,(-14,-20,34)), (['F', 'A', 'F', 'A', 'F', 'A'],(12,9,-21))\n",
      "(AAEEECCAACAC,(14,20,-34)), (BFDDDDBFBBBB,(-14,-20,34)), (['B', 'C', 'B', 'A', 'B', 'C'],(13,-17,4))\n",
      "(AAEECECCAACC,(8,8,-16)), (BFFDDDDBBBBB,(-8,-8,16)), (['B', 'C', 'B', 'C', 'B', 'A'],(15,-15,0))\n",
      "(AAEECECCACAA,(8,8,-16)), (BFFDDDDBBBBB,(-8,-8,16)), (['B', 'A', 'B', 'A', 'B', 'C'],(15,-15,0))\n",
      "(AAEEECCCCAAA,(4,10,-14)), (BFFDDDBDBBBB,(-4,-10,14)), (['B', 'A', 'B', 'A', 'B', 'A'],(21,-9,-12))\n",
      "(ACAAEEEECCCA,(12,12,-24)), (BBFFDDDDDDBB,(-12,-12,24)), (['B', 'A', 'B', 'C', 'D', 'C'],(1,-14,13))\n",
      "(ACCCEAEAEEEE,(0,-12,12)), (BBDDFFFFFDDF,(0,12,-12)), (['F', 'E', 'D', 'E', 'D', 'E'],(-20,13,7))\n",
      "(ACCCEEEEAAEA,(-16,-4,20)), (BBDDFFFFBFFB,(16,4,-20)), (['B', 'A', 'F', 'E', 'F', 'A'],(5,11,-16))\n",
      "(ACCEEAAEEEEA,(-10,20,-10)), (BBDDFBFFDDFB,(10,-20,10)), (['B', 'A', 'F', 'E', 'D', 'E'],(-12,12,0))\n",
      "(ACEEEAACAAEE,(4,28,-32)), (BDDDFBBBFFDF,(-4,-28,32)), (['F', 'E', 'D', 'E', 'F', 'A'],(-3,12,-9))\n"
     ]
    }
   ],
   "source": [
    "from polyforms.point_tg import *\n",
    "from polyforms.inductive_splits import *\n",
    "\n",
    "# poly24 = [\"AB\"]\n",
    "for idx,pstring in enumerate(poly24):\n",
    "    n = len(pstring)\n",
    "    llist = list(pstring)\n",
    "    evenletters = []\n",
    "    oddletters = []\n",
    "    for i in range(0, n): \n",
    "        if i % 2 == 0:\n",
    "            evenletters.append(llist[i])\n",
    "        elif i % 2 == 1:\n",
    "            oddletters.append(llist[i])\n",
    "    evenstr = \"\".join(evenletters)\n",
    "    oddstr = \"\".join(oddletters)\n",
    "    \n",
    "    evenvec = PointTg(0,0,0)\n",
    "    for idx,letr in enumerate(list(evenstr)): \n",
    "        # print(n - 2*idx)\n",
    "        evenvec = evenvec + (n - 2*idx)*DIRECTIONS[letr]\n",
    "        # print(evenvec)\n",
    "    oddvec = PointTg(0,0,0)\n",
    "    for idx,letr in enumerate(list(oddstr)): \n",
    "        # print(n - 2*idx - 1)\n",
    "        oddvec = oddvec + (n - 2*idx - 1)*DIRECTIONS[letr]\n",
    "        # print(oddvec)\n",
    "    \n",
    "    tailvec = PointTg(0,0,0)\n",
    "    tail = []\n",
    "    for j in range(0,6):\n",
    "        tail.append(llist[-(j+1)])\n",
    "        tailvec = tailvec + (j+1)*DIRECTIONS[llist[-(j+1)]]\n",
    "    \n",
    "    \n",
    "    print(f'({evenstr},{evenvec}), ({oddstr},{oddvec}), ({tail},{tailvec})')\n",
    "\n",
    "    #     p_even = InductiveSplits.p(evenstr)\n",
    "    #     g_even = InductiveSplits.g(evenstr)\n",
    "    #     p_odd = InductiveSplits.p(oddstr)\n",
    "    #     g_odd = InductiveSplits.g(oddstr)\n",
    "    #     print(f'({evenstr},{p_even},{g_even}), ({oddstr},{p_odd},{g_odd})')\n",
    "    \n",
    "    "
   ]
  },
  {
   "cell_type": "code",
   "execution_count": 4,
   "id": "7f815cef",
   "metadata": {},
   "outputs": [],
   "source": [
    "for idx,pstring in enumerate(poly24):\n",
    "    llist = list(pstring)\n",
    "    "
   ]
  }
 ],
 "metadata": {
  "kernelspec": {
   "display_name": "Python 3 (ipykernel)",
   "language": "python",
   "name": "python3"
  },
  "language_info": {
   "codemirror_mode": {
    "name": "ipython",
    "version": 3
   },
   "file_extension": ".py",
   "mimetype": "text/x-python",
   "name": "python",
   "nbconvert_exporter": "python",
   "pygments_lexer": "ipython3",
   "version": "3.9.12"
  }
 },
 "nbformat": 4,
 "nbformat_minor": 5
}
